{
 "cells": [
  {
   "cell_type": "code",
   "execution_count": 23,
   "metadata": {},
   "outputs": [],
   "source": [
    "import glob\n",
    "import pandas as pd\n",
    "import util_csv\n",
    "import csv\n",
    "import make_vtt"
   ]
  },
  {
   "cell_type": "code",
   "execution_count": 39,
   "metadata": {},
   "outputs": [],
   "source": [
    "files=glob.glob(\"./checked_data/*.xlsx\")"
   ]
  },
  {
   "cell_type": "code",
   "execution_count": 40,
   "metadata": {},
   "outputs": [
    {
     "name": "stdout",
     "output_type": "stream",
     "text": [
      "['./checked_data/46_吉田_20200915.xlsx', './checked_data/65_飯田_20200918.xlsx', './checked_data/40_赤堀_和田_三山_20200917.xlsx', './checked_data/43_宮川_後藤_20200915.xlsx', './checked_data/58_三上_工藤_20200924.xlsx', './checked_data/32_竹内_20200915.xlsx', './checked_data/59_稲葉_20200924.xlsx', './checked_data/63_飛岡_20200918.xlsx', './checked_data/54_及川_20200923.xlsx', './checked_data/53_佐々倉_及川_20200923.xlsx', './checked_data/55_吉羽_大津谷_20200924.xlsx', './checked_data/62_梶田_小島_20200923.xlsx', './checked_data/64_山本_20200924.xlsx', './checked_data/61_小山_20200924.xlsx', './checked_data/57_及川_20200924.xlsx', './checked_data/60_三角_高岡_20200924.xlsx', './checked_data/65_亀井_20200918.xlsx']\n"
     ]
    }
   ],
   "source": [
    "print(files)"
   ]
  },
  {
   "cell_type": "code",
   "execution_count": 41,
   "metadata": {},
   "outputs": [
    {
     "name": "stdout",
     "output_type": "stream",
     "text": [
      "46_吉田_20200915\n",
      "65_飯田_20200918\n",
      "40_赤堀_和田_三山_20200917\n",
      "43_宮川_後藤_20200915\n",
      "58_三上_工藤_20200924\n",
      "32_竹内_20200915\n",
      "59_稲葉_20200924\n",
      "63_飛岡_20200918\n",
      "54_及川_20200923\n",
      "53_佐々倉_及川_20200923\n",
      "55_吉羽_大津谷_20200924\n",
      "62_梶田_小島_20200923\n",
      "64_山本_20200924\n",
      "61_小山_20200924\n",
      "57_及川_20200924\n",
      "60_三角_高岡_20200924\n",
      "65_亀井_20200918\n"
     ]
    }
   ],
   "source": [
    "for file in files:\n",
    "    sheet = file.split('.')[1]\n",
    "    sheet = sheet.split('/')[-1]\n",
    "    print(sheet)\n",
    "\n",
    "    data = pd.read_excel(file, sheet, index_col=None)\n",
    " \n",
    "    # CSV形式で出力\n",
    "    data.to_csv(file.replace('xlsx', 'csv'), encoding='utf-8',index=False)"
   ]
  },
  {
   "cell_type": "code",
   "execution_count": 42,
   "metadata": {},
   "outputs": [
    {
     "name": "stdout",
     "output_type": "stream",
     "text": [
      "['./checked_data/53_佐々倉_及川_20200923.csv', './checked_data/40_赤堀_和田_三山_20200917.csv', './checked_data/61_小山_20200924.csv', './checked_data/58_三上_工藤_20200924.csv', './checked_data/46_吉田_20200915.csv', './checked_data/32_竹内_20200915.csv', './checked_data/65_亀井_20200918.csv', './checked_data/65_飯田_20200918.csv', './checked_data/64_山本_20200924.csv', './checked_data/54_及川_20200923.csv', './checked_data/59_稲葉_20200924.csv', './checked_data/62_梶田_小島_20200923.csv', './checked_data/60_三角_高岡_20200924.csv', './checked_data/55_吉羽_大津谷_20200924.csv', './checked_data/43_宮川_後藤_20200915.csv', './checked_data/57_及川_20200924.csv', './checked_data/63_飛岡_20200918.csv']\n"
     ]
    }
   ],
   "source": [
    "csv_files = glob.glob(\"./checked_data/*.csv\")\n",
    "print(csv_files)"
   ]
  },
  {
   "cell_type": "code",
   "execution_count": 43,
   "metadata": {},
   "outputs": [
    {
     "name": "stdout",
     "output_type": "stream",
     "text": [
      "./checked_data/53_佐々倉_及川_20200923.csv\n",
      "./checked_result/53_佐々倉_及川_20200923.csv\n",
      "./checked_data/40_赤堀_和田_三山_20200917.csv\n",
      "./checked_result/40_赤堀_和田_三山_20200917.csv\n",
      "./checked_data/61_小山_20200924.csv\n",
      "./checked_result/61_小山_20200924.csv\n",
      "./checked_data/58_三上_工藤_20200924.csv\n",
      "./checked_result/58_三上_工藤_20200924.csv\n",
      "./checked_data/46_吉田_20200915.csv\n",
      "./checked_result/46_吉田_20200915.csv\n",
      "./checked_data/32_竹内_20200915.csv\n",
      "./checked_result/32_竹内_20200915.csv\n",
      "./checked_data/65_亀井_20200918.csv\n",
      "./checked_result/65_亀井_20200918.csv\n",
      "./checked_data/65_飯田_20200918.csv\n",
      "./checked_result/65_飯田_20200918.csv\n",
      "./checked_data/64_山本_20200924.csv\n",
      "./checked_result/64_山本_20200924.csv\n",
      "./checked_data/54_及川_20200923.csv\n",
      "./checked_result/54_及川_20200923.csv\n",
      "./checked_data/59_稲葉_20200924.csv\n",
      "./checked_result/59_稲葉_20200924.csv\n",
      "./checked_data/62_梶田_小島_20200923.csv\n",
      "./checked_result/62_梶田_小島_20200923.csv\n",
      "./checked_data/60_三角_高岡_20200924.csv\n",
      "./checked_result/60_三角_高岡_20200924.csv\n",
      "./checked_data/55_吉羽_大津谷_20200924.csv\n",
      "./checked_result/55_吉羽_大津谷_20200924.csv\n",
      "./checked_data/43_宮川_後藤_20200915.csv\n",
      "./checked_result/43_宮川_後藤_20200915.csv\n",
      "./checked_data/57_及川_20200924.csv\n",
      "./checked_result/57_及川_20200924.csv\n",
      "./checked_data/63_飛岡_20200918.csv\n",
      "./checked_result/63_飛岡_20200918.csv\n"
     ]
    }
   ],
   "source": [
    "for csv_file in csv_files:\n",
    "    print(csv_file)\n",
    "    delete_star(csv_file)"
   ]
  },
  {
   "cell_type": "code",
   "execution_count": 28,
   "metadata": {},
   "outputs": [],
   "source": [
    "def delete_star(file):\n",
    "    rows = util_csv.read_csv(file)\n",
    "    #print(len(rows))\n",
    "    result_file = './checked_result/' + file.split('/')[2]\n",
    "    print(result_file)\n",
    "    with open(result_file, 'w') as o:\n",
    "        writer = csv.writer(o)\n",
    "        for i, row in enumerate(rows):\n",
    "            if('★★' in row[2] and '★★' in row[3]):\n",
    "                #print(rows[i][0], rows[i][2])\n",
    "                #print(rows[i+1][0], rows[i+1][2])\n",
    "                start_time = rows[i][0].split(' --> ')[0]\n",
    "                end_time = rows[i+1][0].split(' --> ')[1]\n",
    "                rows[i+1][0] = start_time + ' --> ' + end_time\n",
    "                #print(rows[i+1][0])\n",
    "\n",
    "            else:          \n",
    "                writer.writerow(row)\n",
    "        \n",
    "            \n",
    "\n",
    "    \"\"\"\n",
    "    with open('./result/33_sample.vtt', 'w') as o:\n",
    "        o.write('WEBVTT\\n\\n')\n",
    "        for i, row in enumerate(file):\n",
    "            o.write(row[0] + '\\n' + row[2] + '\\n\\n')\n",
    "    \n",
    "    if (csv_row == 4):\n",
    "        with open('./result/33_sample.vtt', 'w') as o:\n",
    "            o.write('WEBVTT\\n\\n')\n",
    "            for i, row in enumerate(file):\n",
    "                o.write(row[0] + '\\n' + row[3] + '\\n\\n')\n",
    "    \"\"\"\n",
    "#delete_star('./checked_data/40_赤堀_和田_三山_20200917.csv')"
   ]
  },
  {
   "cell_type": "code",
   "execution_count": 31,
   "metadata": {},
   "outputs": [
    {
     "name": "stdout",
     "output_type": "stream",
     "text": [
      "./vtt_jp/53_佐々倉_及川_20200923.vtt ./vtt_en/53_佐々倉_及川_20200923.vtt\n",
      "5\n",
      "./vtt_jp/40_赤堀_和田_三山_20200917.vtt ./vtt_en/40_赤堀_和田_三山_20200917.vtt\n",
      "5\n",
      "./vtt_jp/61_小山_20200924.vtt ./vtt_en/61_小山_20200924.vtt\n",
      "5\n",
      "./vtt_jp/58_三上_工藤_20200924.vtt ./vtt_en/58_三上_工藤_20200924.vtt\n",
      "5\n",
      "./vtt_jp/46_吉田_20200915.vtt ./vtt_en/46_吉田_20200915.vtt\n",
      "4\n",
      "./vtt_jp/32_竹内_20200915.vtt ./vtt_en/32_竹内_20200915.vtt\n",
      "4\n",
      "./vtt_jp/65_亀井_20200918.vtt ./vtt_en/65_亀井_20200918.vtt\n",
      "5\n",
      "./vtt_jp/65_飯田_20200918.vtt ./vtt_en/65_飯田_20200918.vtt\n",
      "5\n",
      "./vtt_jp/64_山本_20200924.vtt ./vtt_en/64_山本_20200924.vtt\n",
      "5\n",
      "./vtt_jp/54_及川_20200923.vtt ./vtt_en/54_及川_20200923.vtt\n",
      "5\n",
      "./vtt_jp/59_稲葉_20200924.vtt ./vtt_en/59_稲葉_20200924.vtt\n",
      "5\n",
      "./vtt_jp/62_梶田_小島_20200923.vtt ./vtt_en/62_梶田_小島_20200923.vtt\n",
      "5\n",
      "./vtt_jp/60_三角_高岡_20200924.vtt ./vtt_en/60_三角_高岡_20200924.vtt\n",
      "5\n",
      "./vtt_jp/55_吉羽_大津谷_20200924.vtt ./vtt_en/55_吉羽_大津谷_20200924.vtt\n",
      "5\n",
      "./vtt_jp/43_宮川_後藤_20200915.vtt ./vtt_en/43_宮川_後藤_20200915.vtt\n",
      "4\n",
      "./vtt_jp/57_及川_20200924.vtt ./vtt_en/57_及川_20200924.vtt\n",
      "5\n",
      "./vtt_jp/63_飛岡_20200918.vtt ./vtt_en/63_飛岡_20200918.vtt\n",
      "4\n"
     ]
    }
   ],
   "source": [
    "result_files = glob.glob(\"./checked_result/*.csv\")\n",
    "for result_file in result_files:\n",
    "    make_vtt.write_vtt(result_file)"
   ]
  },
  {
   "cell_type": "code",
   "execution_count": 50,
   "metadata": {},
   "outputs": [
    {
     "name": "stdout",
     "output_type": "stream",
     "text": [
      "./checked_data/40_赤堀_和田_三山_20200917.csv\n",
      "現在は、調達★？★のエグゼクティブアドバイザーを務めて参ります。\n",
      "./checked_data/61_小山_20200924.csv\n",
      "私たちは、2019年4月25日に全社に注意喚起を出しまして、パッチあてをしましょうということで進んできたんですけども、当時、★cvs SIM?★もちゃんとつかないような脆弱性だったので、。\n",
      "./checked_data/62_梶田_小島_20200923.csv\n",
      "我々は31社が持ち合わせた、ネットワーク、セキュリティ、ワークプレイス、データセンター、クラウドや★タレントサービス?★の能力を活かして。\n",
      "./checked_data/57_及川_20200924.csv\n",
      "Center of Excellenceという形で、★市中携帯?★を通して、データ活用人材を育成しまして、。\n"
     ]
    }
   ],
   "source": [
    "csv_files = glob.glob(\"./checked_data/*.csv\")\n",
    "for csv_file in csv_files:\n",
    "    rows = util_csv.read_csv(csv_file)\n",
    "\n",
    "    for row in rows:\n",
    "        if('★' in row[2]):\n",
    "            if not ('★★' in row[2]):\n",
    "                print(csv_file)\n",
    "                print(row[2])"
   ]
  },
  {
   "cell_type": "code",
   "execution_count": null,
   "metadata": {},
   "outputs": [],
   "source": []
  }
 ],
 "metadata": {
  "kernelspec": {
   "display_name": "Python 3",
   "language": "python",
   "name": "python3"
  },
  "language_info": {
   "codemirror_mode": {
    "name": "ipython",
    "version": 3
   },
   "file_extension": ".py",
   "mimetype": "text/x-python",
   "name": "python",
   "nbconvert_exporter": "python",
   "pygments_lexer": "ipython3",
   "version": "3.7.4"
  }
 },
 "nbformat": 4,
 "nbformat_minor": 2
}
