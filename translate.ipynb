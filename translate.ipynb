{
 "cells": [
  {
   "cell_type": "markdown",
   "metadata": {},
   "source": [
    "# CMA --> ttv\n",
    "cma出力ファイルをttv形式に変換します。"
   ]
  },
  {
   "cell_type": "code",
   "execution_count": 1,
   "metadata": {},
   "outputs": [],
   "source": [
    "import csv, datetime\n",
    "import glob\n",
    "import util_csv\n",
    "import util_time\n",
    "import editrow\n",
    "# データファイル一覧の読み込み\n",
    "files=glob.glob(\"./data/*.csv\")"
   ]
  },
  {
   "cell_type": "code",
   "execution_count": 3,
   "metadata": {},
   "outputs": [
    {
     "name": "stdout",
     "output_type": "stream",
     "text": [
      "ファイル名： ./data/33_sample.csv\n",
      "分割前： 76\n",
      "分割後： 179\n",
      "total179\n"
     ]
    }
   ],
   "source": [
    "# 本番用test\n",
    "file_name = './data/33_sample.csv'\n",
    "file_name_list = file_name.split('/')\n",
    "result_dir_name = './result/'\n",
    "result_file_name = result_dir_name + file_name_list[2]\n",
    "# './result/33_sample.csv'\n",
    "assert result_file_name ==  './result/33_sample.csv'\n",
    "# ファイルのread\n",
    "file = util_csv.read_csv(file_name)\n",
    "\n",
    "# ファイルの分割、書き込み\n",
    "separate_file = editrow.separate_row(file, '。')\n",
    "print('ファイル名： '+ file_name)\n",
    "print('分割前： ' + str(len(file)))\n",
    "print('分割後： ' + str(len(separate_file)))\n",
    "\n",
    "# タイムスタンプ形式への更新\n",
    "next_times = util_time.get_next_times(separate_file)\n",
    "vtt_times = util_time.get_vtt_times(next_times)\n",
    "assert(len(separate_file)==len(vtt_times))\n",
    "\n",
    "# ファイルの書き込み\n",
    "with open(result_file_name, 'w')as o:\n",
    "    writer = csv.writer(o, delimiter=',')\n",
    "    for i, row in enumerate(separate_file):\n",
    "        writer.writerow([vtt_times[i], row[1], row[2]])\n"
   ]
  },
  {
   "cell_type": "code",
   "execution_count": null,
   "metadata": {},
   "outputs": [],
   "source": []
  }
 ],
 "metadata": {
  "kernelspec": {
   "display_name": "Python 3",
   "language": "python",
   "name": "python3"
  },
  "language_info": {
   "codemirror_mode": {
    "name": "ipython",
    "version": 3
   },
   "file_extension": ".py",
   "mimetype": "text/x-python",
   "name": "python",
   "nbconvert_exporter": "python",
   "pygments_lexer": "ipython3",
   "version": "3.7.4"
  }
 },
 "nbformat": 4,
 "nbformat_minor": 2
}
