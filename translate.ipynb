{
 "cells": [
  {
   "cell_type": "markdown",
   "metadata": {},
   "source": [
    "# CMA --> ttv\n",
    "cma出力ファイルをttv形式に変換します。"
   ]
  },
  {
   "cell_type": "code",
   "execution_count": 1,
   "metadata": {},
   "outputs": [],
   "source": [
    "import csv, datetime\n",
    "import glob\n",
    "import util_csv\n",
    "import util_time\n",
    "import editrow\n",
    "# データファイル一覧の読み込み\n",
    "files=glob.glob(\"./data/*.csv\")"
   ]
  },
  {
   "cell_type": "code",
   "execution_count": 3,
   "metadata": {},
   "outputs": [
    {
     "name": "stdout",
     "output_type": "stream",
     "text": [
      "ファイル名： ./data/33_sample.csv\n",
      "分割前： 76\n",
      "分割後： 179\n",
      "total179\n"
     ]
    }
   ],
   "source": [
    "# 本番用test\n",
    "file_name = './data/33_sample.csv'\n",
    "file_name_list = file_name.split('/')\n",
    "result_dir_name = './result/'\n",
    "result_file_name = result_dir_name + file_name_list[2]\n",
    "# './result/33_sample.csv'\n",
    "assert result_file_name ==  './result/33_sample.csv'\n",
    "# ファイルのread\n",
    "file = util_csv.read_csv(file_name)\n",
    "\n",
    "# ファイルの分割、書き込み\n",
    "separate_file = editrow.separate_row(file, '。')\n",
    "print('ファイル名： '+ file_name)\n",
    "print('分割前： ' + str(len(file)))\n",
    "print('分割後： ' + str(len(separate_file)))\n",
    "\n",
    "# タイムスタンプ形式への更新\n",
    "next_times = util_time.get_next_times(separate_file)\n",
    "vtt_times = util_time.get_vtt_times(next_times)\n",
    "assert(len(separate_file)==len(vtt_times))\n",
    "\n",
    "# ファイルの書き込み\n",
    "with open(result_file_name, 'w')as o:\n",
    "    writer = csv.writer(o, delimiter=',')\n",
    "    for i, row in enumerate(separate_file):\n",
    "        writer.writerow([vtt_times[i], row[1], row[2]])\n"
   ]
  },
  {
   "cell_type": "code",
   "execution_count": 5,
   "metadata": {},
   "outputs": [],
   "source": [
    "f = './result/33_sample.csv'\n",
    "file = util_csv.read_csv(f)\n",
    "with open('./result/33_sample.vtt', 'w') as o:\n",
    "    o.write('WEBVTT\\n\\n')\n",
    "    for i, row in enumerate(file):\n",
    "        o.write(row[0] + '\\n' + row[2] + '\\n\\n')\n",
    "        \n",
    "        \n",
    "    "
   ]
  },
  {
   "cell_type": "code",
   "execution_count": 10,
   "metadata": {},
   "outputs": [
    {
     "name": "stdout",
     "output_type": "stream",
     "text": [
      "0:02:30\n",
      "150\n"
     ]
    }
   ],
   "source": [
    "first_date = datetime.datetime.strptime('2020/02/02 00:03:30', '%Y/%m/%d %H:%M:%S')\n",
    "second_date = datetime.datetime.strptime('2020/02/02 00:01:00', '%Y/%m/%d %H:%M:%S')\n",
    "\n",
    "diff = first_date - second_date\n",
    "print(diff)\n",
    "print(diff.seconds)"
   ]
  },
  {
   "cell_type": "code",
   "execution_count": 13,
   "metadata": {},
   "outputs": [],
   "source": [
    "\n",
    "def get_h_m_s(td):\n",
    "    m, s = divmod(td.seconds, 60)\n",
    "    h, m = divmod(m, 60)\n",
    "    if len(str(h))==1:\n",
    "        h = '0'+str(h)\n",
    "    else:\n",
    "        h = str(h)\n",
    "    if len(str(m))==1:\n",
    "        m = '0'+str(m)\n",
    "    else:\n",
    "        s = str(m)\n",
    "    if len(str(s))==1:\n",
    "        s = '0'+str(s)\n",
    "    else:\n",
    "        s = str(s)\n",
    "    return h, m, s"
   ]
  },
  {
   "cell_type": "code",
   "execution_count": 56,
   "metadata": {},
   "outputs": [],
   "source": [
    "def get_times2(start_date, check_date, current_date, length, word_nums):\n",
    "    # 差分から推定時間をリストにして返却\n",
    "    diff_time = current_date - check_date #差分時間\n",
    "    # TODO : 一度secondsで計算後、mm:ssに戻す\n",
    "    diff_seconds = diff_time.seconds # 時間、分含めた総合秒数\n",
    "    diff_time = int(get_h_m_s(diff_time)[2])\n",
    "    check_date_ss = check_date.second # \n",
    "    print(diff_seconds, check_date_ss)\n",
    "    \n",
    "    # args: ex 01:30:00 , 01:30:20, 3\n",
    "    # return : [01:30:00, 01:30:05, 01:30:15]\n",
    "    percentages = list(map(lambda i:i/sum(word_nums), word_nums))\n",
    "    time_percentages = list(map(lambda i:i*diff_seconds, percentages))\n",
    "    # 整数への切り上げ\n",
    "    time_percentages = list(map(lambda i:int(Decimal(str(i)).quantize(Decimal('0'), rounding=ROUND_HALF_UP)),time_percentages))\n",
    "    if (sum(time_percentages) != diff_seconds):\n",
    "        time_percentages[-1] = diff_seconds - sum(time_percentages[:-1])\n",
    "    print(time_percentages)\n",
    "    assert sum(time_percentages) == diff_seconds\n",
    "    \n",
    "    # total_time = 0\n",
    "    # [24, 77, 49]\n",
    "    # ーー＞ [00:00:00, 00:00:24, 00:00:101]\n",
    "    # 初期値は１つ前の時間（＝check_date)\n",
    "    total_time = 0\n",
    "    times = []\n",
    "    for i, time in enumerate(time_percentages):\n",
    "        if (i==0):\n",
    "            # 初期値＝check_timeが入る\n",
    "            pass\n",
    "        else:\n",
    "            # 合計した値の秒数となる\n",
    "            total_time += time_percentages[i-1]\n",
    "        \n",
    "        # check_dateにtotal_timeを足した日付が発話開始時間\n",
    "        # 開始日付からの経過時間を算出してvtt形式対応する\n",
    "        td = (check_date + datetime.timedelta(seconds=total_time)) - start_date\n",
    "        hh, mm, ss = get_h_m_s(td)\n",
    "        time = hh +':'+ mm +':'+ ss +'.000'\n",
    "        times.append(time)\n",
    "\n",
    "    return times\n"
   ]
  },
  {
   "cell_type": "code",
   "execution_count": 54,
   "metadata": {},
   "outputs": [
    {
     "name": "stdout",
     "output_type": "stream",
     "text": [
      "2020-02-02 00:07:40\n",
      "90 0\n",
      "[15, 46, 29]\n",
      "['00:01:00.000', '00:01:15.000', '00:02:01.000']\n"
     ]
    }
   ],
   "source": [
    "from decimal import Decimal, ROUND_HALF_UP, ROUND_HALF_EVEN\n",
    "first_date = datetime.datetime.strptime('2020/02/02 00:07:30', '%Y/%m/%d %H:%M:%S')\n",
    "second_date = datetime.datetime.strptime('2020/02/02 00:06:00', '%Y/%m/%d %H:%M:%S')\n",
    "start_date = datetime.datetime.strptime('2020/02/02 00:05:00', '%Y/%m/%d %H:%M:%S')\n",
    "third = first_date + datetime.timedelta(seconds=10)\n",
    "print(third)\n",
    "times = get_times2(start_date, second_date, first_date, 3, [10,32,20])\n",
    "print(times)"
   ]
  },
  {
   "cell_type": "code",
   "execution_count": null,
   "metadata": {},
   "outputs": [],
   "source": []
  }
 ],
 "metadata": {
  "kernelspec": {
   "display_name": "Python 3",
   "language": "python",
   "name": "python3"
  },
  "language_info": {
   "codemirror_mode": {
    "name": "ipython",
    "version": 3
   },
   "file_extension": ".py",
   "mimetype": "text/x-python",
   "name": "python",
   "nbconvert_exporter": "python",
   "pygments_lexer": "ipython3",
   "version": "3.7.4"
  }
 },
 "nbformat": 4,
 "nbformat_minor": 2
}
