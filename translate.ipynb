{
 "cells": [
  {
   "cell_type": "code",
   "execution_count": 136,
   "metadata": {},
   "outputs": [],
   "source": [
    "import csv, datetime\n",
    "import glob\n",
    "\n",
    "# データファイル一覧の読み込み\n",
    "files=glob.glob(\"./data/*.csv\")"
   ]
  },
  {
   "cell_type": "code",
   "execution_count": 323,
   "metadata": {},
   "outputs": [
    {
     "name": "stdout",
     "output_type": "stream",
     "text": [
      "ファイル名： ./data/33_sample.csv\n",
      "分割前： 76\n",
      "分割後： 179\n",
      "total179\n",
      "179 179 00:00:05.000\n"
     ]
    }
   ],
   "source": [
    "# 本番用test\n",
    "file_name = './data/33_sample.csv'\n",
    "file_name_list = file_name.split('/')\n",
    "result_dir_name = './result/'\n",
    "result_file_name = result_dir_name + file_name_list[2]\n",
    "# './result/33_sample.csv'\n",
    "assert result_file_name ==  './result/33_sample.csv'\n",
    "# ファイルのread\n",
    "file = read_csv(file_name)\n",
    "\n",
    "# ファイルの分割、書き込み\n",
    "separate_file = separate_row(file, '。')\n",
    "print('ファイル名： '+ file_name)\n",
    "print('分割前： ' + str(len(file)))\n",
    "print('分割後： ' + str(len(separate_file)))\n",
    "\n",
    "# タイムスタンプの更新\n",
    "timestamp_row = []\n",
    "for row in separate_file:\n",
    "    timestamp_row.append(row[0])\n",
    "    \n",
    "next_times = get_next_times(timestamp_row)\n",
    "next_times2 = get_next_times2(separate_file)\n",
    "\n",
    "print(len(next_times2), len(next_times), next_times2[0])\n",
    "vtt_times = get_vtt_times2(next_times2)\n",
    "assert(len(separate_file)==len(vtt_times))\n",
    "\n",
    "# ファイルの書き込み\n",
    "with open(result_file_name, 'w')as o:\n",
    "    writer = csv.writer(o, delimiter=',')\n",
    "    for i, row in enumerate(separate_file):\n",
    "        writer.writerow([vtt_times[i], row[1], row[2]])\n"
   ]
  },
  {
   "cell_type": "code",
   "execution_count": 140,
   "metadata": {},
   "outputs": [],
   "source": [
    "def read_csv(file_name):\n",
    "    \"\"\" [row, row, row]の形式の２次元リストを返す\"\"\"\n",
    "    file = []\n",
    "    with open(file_name) as f:\n",
    "        for row in csv.reader(f):\n",
    "            file.append(row)\n",
    "    return file"
   ]
  },
  {
   "cell_type": "code",
   "execution_count": 137,
   "metadata": {},
   "outputs": [
    {
     "name": "stdout",
     "output_type": "stream",
     "text": [
      "./data/33_島田_20200820.csv\n",
      "./data/37_林_20200820_edited.csv\n",
      "./data/41_川田_20200819_edited_日本語訳追加.csv\n",
      "./data/42_松田_20200820_edited.csv\n",
      "./data/34_境野_20200817_edited_日本語訳追加.csv\n",
      "./data/39_加賀_20200819_edited.csv\n",
      "./data/49_宮川_20200819_edited.csv\n"
     ]
    }
   ],
   "source": [
    "# 一括で変換（en, jp２ファイルずつ作成）\n",
    "\n",
    "for file_name in files:\n",
    "    f_split = file_name.split('/')\n",
    "    result_en = './result/en/'\n",
    "    \n",
    "    # result_jp = './result/jp/'\n",
    "\n",
    "    out_en = result_en + f_split[2]\n",
    "    # out_jp = result_jp + f_split[2]\n",
    "    \n",
    "    file = []\n",
    "    with open(file_name) as f:\n",
    "        print(file_name)\n",
    "        for row in csv.reader(f):\n",
    "            file.append(row)\n",
    "    write(file, out_en, '.')\n",
    "    # 日本語を修正したい場合コメントを外すこと\n",
    "    # write_jp(file, out_jp, '。')"
   ]
  },
  {
   "cell_type": "code",
   "execution_count": 25,
   "metadata": {},
   "outputs": [],
   "source": [
    "# enを読み込みファイルの日付を修正\n",
    "csv_file = './result/en/37_林_20200820_edited.csv'\n",
    "en = []\n",
    "with open(csv_file) as f:\n",
    "    for row in csv.reader(f):\n",
    "        en.append(row[0])\n"
   ]
  },
  {
   "cell_type": "code",
   "execution_count": 303,
   "metadata": {},
   "outputs": [],
   "source": [
    "def get_next_times(en):\n",
    "    \"\"\"推定字幕表示時間を抽出する\n",
    "    TODO: セグメント内の文字数を算出して、割合とする\n",
    "    \"\"\"\n",
    "    first_date = datetime.datetime.strptime(en[0], '%Y/%m/%d %H:%M')\n",
    "    same_minitues_count = 0\n",
    "    check_date = first_date\n",
    "    new_times = []\n",
    "    check_total = 0\n",
    "    for e in en:\n",
    "        current_date = datetime.datetime.strptime(e, '%Y/%m/%d %H:%M')\n",
    "        if current_date == check_date:\n",
    "            same_minitues_count += 1\n",
    "        else:\n",
    "            # 日付変更\n",
    "            date = current_date - first_date\n",
    "            mm = get_h_m_s(date)\n",
    "            #? length = 60 // same_minitues_count\n",
    "            check_total += same_minitues_count\n",
    "            times = get_times(mm, same_minitues_count)\n",
    "            #print(times,same_minitues_count)\n",
    "            assert (len(times)==same_minitues_count)\n",
    "            check_date = current_date\n",
    "            same_minitues_count = 1\n",
    "            new_times.extend(times)\n",
    "    else:\n",
    "        #print(same_minitues_count)\n",
    "        date = current_date - first_date\n",
    "        mm = get_h_m_s(date)\n",
    "        check_total += same_minitues_count\n",
    "        times = get_times(mm, same_minitues_count)\n",
    "        #print(new_times[-1], times[-1])\n",
    "        if new_times[-1] != times[-1]:\n",
    "            new_times.extend(times)\n",
    "    \n",
    "    return new_times"
   ]
  },
  {
   "cell_type": "code",
   "execution_count": 320,
   "metadata": {},
   "outputs": [],
   "source": [
    "def get_next_times2(file):\n",
    "    \"\"\"推定字幕表示時間を抽出する\n",
    "    TODO: セグメント内の文字数を算出して、割合とする\n",
    "    \"\"\"\n",
    "    first_date = datetime.datetime.strptime(file[1][0], '%Y/%m/%d %H:%M')\n",
    "    same_minitutes_count = 0\n",
    "    same_minitutes_word_num = [] # 同一時間帯の文字数一覧\n",
    "    check_date = first_date\n",
    "    new_times = []\n",
    "    check_total = 0\n",
    "    for row in file:\n",
    "        current_date = datetime.datetime.strptime(row[0], '%Y/%m/%d %H:%M')\n",
    "        word_num = len(row[2])\n",
    "        if current_date == check_date:\n",
    "            same_minitutes_count += 1\n",
    "            #print(word_num , same_minitutes_word_num, type(word_num), type(same_minitutes_word_num))\n",
    "            same_minitutes_word_num.append(word_num)\n",
    "        else:\n",
    "            # 日付変更\n",
    "            #print(str(current_date), str(first_date))\n",
    "            date = current_date - first_date - datetime.timedelta(minutes=1)\n",
    "            #print('date' + str(date))\n",
    "            mm = get_h_m_s(date)\n",
    "            #print(mm)\n",
    "            check_total += same_minitutes_count\n",
    "            # 値の算出\n",
    "            times = get_times2(mm, same_minitutes_count, same_minitutes_word_num)\n",
    "            #print(times)\n",
    "            assert (len(times)==same_minitutes_count)\n",
    "            # 値の更新\n",
    "            check_date = current_date\n",
    "            same_minitutes_count = 1\n",
    "            same_minitutes_word_num = [word_num]\n",
    "            new_times.extend(times)\n",
    "    else:\n",
    "        #print(len(new_times), len(times))\n",
    "        #print(same_minitutes_count)\n",
    "        date = current_date - first_date \n",
    "        mm = get_h_m_s(date)\n",
    "        check_total += same_minitutes_count\n",
    "        times = get_times2(mm, same_minitutes_count, same_minitutes_word_num)\n",
    "        #print(times)\n",
    "        #print(new_times[-1], times[-1])\n",
    "        if new_times[-1] != times[-1]:\n",
    "            new_times.extend(times)\n",
    "    print('total'+ str(check_total))\n",
    "    return new_times"
   ]
  },
  {
   "cell_type": "code",
   "execution_count": 292,
   "metadata": {},
   "outputs": [],
   "source": [
    "a=[]\n",
    "a.append(1)\n",
    "a.append(2)\n",
    "a\n",
    "dt2 = datetime.timedelta(minutes=1)"
   ]
  },
  {
   "cell_type": "code",
   "execution_count": 50,
   "metadata": {},
   "outputs": [],
   "source": [
    "def get_vtt_times(new_times):\n",
    "    vtt_times = []\n",
    "    for i, new in enumerate(new_times):\n",
    "        try:\n",
    "            vtt_time = new + ' --> ' + new_times[i+1]\n",
    "        except:\n",
    "            next_minites = get_next_minites(new)\n",
    "            vtt_time = new + ' --> ' + next_minites\n",
    "        vtt_times.append(vtt_time)\n",
    "    return vtt_times"
   ]
  },
  {
   "cell_type": "code",
   "execution_count": 310,
   "metadata": {},
   "outputs": [],
   "source": [
    "def get_vtt_times2(new_times):\n",
    "    vtt_times = []\n",
    "    for i, new in enumerate(new_times):\n",
    "        if (i==0):\n",
    "            vtt_time = '00:00:00.000 --> '+ new\n",
    "        else:\n",
    "            try:\n",
    "                vtt_time = new_times[i-1] + ' --> ' + new\n",
    "            except:\n",
    "                next_minites = get_next_minites(new)\n",
    "                vtt_time = new_times[i-1] + ' --> ' + new\n",
    "        vtt_times.append(vtt_time)\n",
    "    return vtt_times"
   ]
  },
  {
   "cell_type": "code",
   "execution_count": 311,
   "metadata": {},
   "outputs": [
    {
     "name": "stdout",
     "output_type": "stream",
     "text": [
      "./result/en/33_島田_20200820.csv\n",
      "183\n",
      "183\n",
      "183\n",
      "./result/en/37_林_20200820_edited.csv\n",
      "159\n",
      "159\n",
      "159\n",
      "./result/en/41_川田_20200819_edited_日本語訳追加.csv\n",
      "194\n",
      "194\n",
      "194\n",
      "./result/en/42_松田_20200820_edited.csv\n",
      "146\n",
      "146\n",
      "146\n",
      "./result/en/34_境野_20200817_edited_日本語訳追加.csv\n",
      "218\n",
      "218\n",
      "218\n",
      "./result/en/39_加賀_20200819_edited.csv\n",
      "122\n",
      "122\n",
      "122\n",
      "./result/en/49_宮川_20200819_edited.csv\n",
      "204\n",
      "204\n",
      "204\n"
     ]
    }
   ],
   "source": [
    "en_files=glob.glob(\"./result/en/*.csv\")\n",
    "time_dir = './result/time/'\n",
    "for en_file in en_files:\n",
    "    #if (en_file == './result/en/39_加賀_20200819_edited.csv' or './result/en/49_宮川_20200819_edited.csv'):\n",
    "    #    continue\n",
    "    print(en_file)\n",
    "    en = []\n",
    "    \n",
    "    with open(en_file) as f:\n",
    "        for row in csv.reader(f):\n",
    "            en.append(row[0])\n",
    "        print(len(en))        \n",
    "        output = time_dir + en_file.split('/')[3]\n",
    "        next_times = get_next_times(en)\n",
    "        print(len(next_times))\n",
    "        vtt_times = get_vtt_times(next_times)\n",
    "        print(len(vtt_times))\n",
    "        \n",
    "        assert(len(en)==len(vtt_times))\n",
    "    with open(output, 'w')as o:\n",
    "        writer = csv.writer(o, delimiter=',')\n",
    "        for vtt in vtt_times:\n",
    "            writer.writerow([vtt])"
   ]
  },
  {
   "cell_type": "code",
   "execution_count": 84,
   "metadata": {},
   "outputs": [
    {
     "name": "stdout",
     "output_type": "stream",
     "text": [
      "./result/time/33_島田_20200820.csv\n"
     ]
    }
   ],
   "source": [
    "i = './result/en/33_島田_20200820.csv'\n",
    "r = './result/time/'\n",
    "en = []\n",
    "with open(i) as f:\n",
    "    for row in csv.reader(f):\n",
    "        en.append(row[0])\n",
    "        \n",
    "output = r + i.split('/')[3]\n",
    "next_times = get_next_times(en)\n",
    "vtt_times = get_vtt_times(next_times)\n",
    "print(output)"
   ]
  },
  {
   "cell_type": "code",
   "execution_count": 83,
   "metadata": {},
   "outputs": [],
   "source": [
    "with open(output, 'w')as o:\n",
    "    writer = csv.writer(o, delimiter=',')\n",
    "    for vtt in vtt_times:\n",
    "        writer.writerow([vtt])"
   ]
  },
  {
   "cell_type": "code",
   "execution_count": 55,
   "metadata": {},
   "outputs": [
    {
     "name": "stdout",
     "output_type": "stream",
     "text": [
      "./result/time/49_宮川_20200819_edited.csv\n"
     ]
    }
   ],
   "source": [
    "print(output)"
   ]
  },
  {
   "cell_type": "code",
   "execution_count": 256,
   "metadata": {},
   "outputs": [
    {
     "name": "stdout",
     "output_type": "stream",
     "text": [
      "[]\n"
     ]
    },
    {
     "data": {
      "text/plain": [
       "'00:22:00.000'"
      ]
     },
     "execution_count": 256,
     "metadata": {},
     "output_type": "execute_result"
    }
   ],
   "source": [
    "#a='00:21:00.000'\n",
    "print(a[3:5])\n",
    "#minites = int(a[3:5])+1\n",
    "#aa = '0'+str(minites) if len(str(minites))==1 else str(minites)\n",
    "#aa\n",
    "#a = a[:3] + aa + a[5:] \n",
    "#a\n",
    "\n",
    "\n",
    "\n",
    "get_next_minites('00:21:00.000')"
   ]
  },
  {
   "cell_type": "code",
   "execution_count": 312,
   "metadata": {},
   "outputs": [],
   "source": [
    "def get_next_minites(time):\n",
    "    current_minites = int(time[3:5])+1\n",
    "    next_minites = '0'+str(current_minites) if len(str(current_minites))==1 else str(current_minites)\n",
    "    next_time = time[:3] + next_minites + time[5:]\n",
    "    return next_time"
   ]
  },
  {
   "cell_type": "code",
   "execution_count": 92,
   "metadata": {},
   "outputs": [
    {
     "name": "stdout",
     "output_type": "stream",
     "text": [
      "['./data/33_島田_20200820.csv', './data/37_林_20200820_edited.csv', './data/41_川田_20200819_edited_日本語訳追加.csv', './data/42_松田_20200820_edited.csv', './data/39_加賀_20200819_edited.csv', './data/49_宮川_20200819_edited.csv']\n"
     ]
    }
   ],
   "source": [
    "print(files)"
   ]
  },
  {
   "cell_type": "code",
   "execution_count": 3,
   "metadata": {},
   "outputs": [],
   "source": [
    "#　読み込み\n",
    "file = []\n",
    "csv_file = \"./34.csv\"\n",
    "with open(csv_file) as f:\n",
    "    for row in csv.reader(f):\n",
    "        file.append(row)"
   ]
  },
  {
   "cell_type": "code",
   "execution_count": null,
   "metadata": {},
   "outputs": [],
   "source": []
  },
  {
   "cell_type": "code",
   "execution_count": 4,
   "metadata": {},
   "outputs": [],
   "source": [
    "# datetimeから時間、分を返す\n",
    "def get_h_m_s(td):\n",
    "    m, s = divmod(td.seconds, 60)\n",
    "    h, m = divmod(m, 60)\n",
    "    if len(str(h))==1:\n",
    "        h = '0'+str(h)\n",
    "    else:\n",
    "        h = str(h)\n",
    "    if len(str(m))==1:\n",
    "        m = '0'+str(m)\n",
    "    else:\n",
    "        m = str(m)\n",
    "    return h, m"
   ]
  },
  {
   "cell_type": "code",
   "execution_count": 313,
   "metadata": {},
   "outputs": [],
   "source": [
    "# vtt用時間を返す\n",
    "def get_vtt_time(first_date, current_date, length):\n",
    "    fd = datetime.datetime.strptime(first_date, '%Y/%m/%d %H:%M')\n",
    "    cd = datetime.datetime.strptime(current_date, '%Y/%m/%d %H:%M')\n",
    "    d = cd - fd\n",
    "    mm = get_h_m_s(d)\n",
    "    times = get_times(mm, length)\n",
    "        \n",
    "    return times"
   ]
  },
  {
   "cell_type": "code",
   "execution_count": 7,
   "metadata": {},
   "outputs": [],
   "source": [
    "# 同一時間から配分してリストを返す\n",
    "def get_times(mm, length):\n",
    "    second = 60 // length\n",
    "    times = []\n",
    "    #print(type(mm[0]),type(mm[0]),type(second))\n",
    "    for i in range(length):        \n",
    "        ss = '0'+str(second*i) if len(str(second*i))==1 else str(second*i)\n",
    "        time = mm[0] + ':' + mm[1] + ':' + ss +'.000'\n",
    "        times.append(time)\n",
    "    return times"
   ]
  },
  {
   "cell_type": "code",
   "execution_count": 322,
   "metadata": {},
   "outputs": [],
   "source": [
    "# 同一時間から配分してリストを返す\n",
    "from decimal import Decimal, ROUND_HALF_UP, ROUND_HALF_EVEN\n",
    "def get_times2(mm, length, word_nums):\n",
    "    percentages = list(map(lambda i:i/sum(word_nums), word_nums))\n",
    "    time_percentages = list(map(lambda i:i*60, percentages))\n",
    "    time_percentages = list(map(lambda i:int(Decimal(str(i)).quantize(Decimal('0'), rounding=ROUND_HALF_UP)),time_percentages))\n",
    "    \n",
    "    if (sum(time_percentages) != 60):\n",
    "        time_percentages[-1] = 60 - sum(time_percentages[:-1])\n",
    "    assert sum(time_percentages) == 60\n",
    "    total_time = 0\n",
    "    times = []\n",
    "    for i, time in enumerate(time_percentages):\n",
    "        total_time += time\n",
    "        ss = '0'+str(total_time) if len(str(total_time))==1 else str(total_time)\n",
    "        if(ss == '60'):\n",
    "            minitutes = '0'+str(int(mm[1])+1) if len(str(int(mm[1])+1))==1 else str(int(mm[1])+1)\n",
    "            t = mm[0] + ':' + minitutes + ':00.000'\n",
    "        else:\n",
    "            t = mm[0] + ':' + mm[1] + ':' + ss +'.000'\n",
    "        times.append(t)\n",
    "    #print(type(mm[0]),type(mm[0]),type(second))\n",
    "    #for i in range(length):        \n",
    "    #    ss = '0'+str(second*i) if len(str(second*i))==1 else str(second*i)\n",
    "    #    time = mm[0] + ':' + mm[1] + ':' + ss +'.000'\n",
    "    #    times.append(time)\n",
    "\n",
    "    \n",
    "    \n",
    "    return times"
   ]
  },
  {
   "cell_type": "code",
   "execution_count": 239,
   "metadata": {},
   "outputs": [
    {
     "name": "stdout",
     "output_type": "stream",
     "text": [
      "[1, 2]\n",
      "3\n"
     ]
    }
   ],
   "source": [
    "a = [1,2,3]\n",
    "print(a[:-1])\n",
    "print(6 - sum(a[:-1]))"
   ]
  },
  {
   "cell_type": "code",
   "execution_count": 216,
   "metadata": {},
   "outputs": [
    {
     "name": "stdout",
     "output_type": "stream",
     "text": [
      "379\n",
      "[0.2638522427440633, 0.05804749340369393, 0.0870712401055409, 0.11609498680738786, 0.14511873350923482, 0.16094986807387862, 0.0712401055408971, 0.047493403693931395, 0.023746701846965697, 0.026385224274406333] 0.9999999999999999\n",
      "[15.831134564643799, 3.4828496042216357, 5.224274406332454, 6.965699208443271, 8.70712401055409, 9.656992084432718, 4.274406332453826, 2.8496042216358837, 1.4248021108179418, 1.58311345646438]\n",
      "[16, 3, 5, 7, 9, 10, 4, 3, 1, 2]\n",
      "60\n"
     ]
    }
   ],
   "source": [
    "\n",
    "a = [100,22,33,44,55,61,27,18,9,10]\n",
    "print(sum(a))\n",
    "b = list(map(lambda i:i/sum(a), a))\n",
    "print(b, sum(b))\n",
    "c = list(map(lambda i:i*60, list(b)))\n",
    "print(c)\n",
    "d = list(map(lambda i:int(Decimal(str(i)).quantize(Decimal('0'), rounding=ROUND_HALF_UP)),c))\n",
    "print(d)\n",
    "print(sum(d))\n"
   ]
  },
  {
   "cell_type": "code",
   "execution_count": 10,
   "metadata": {},
   "outputs": [],
   "source": [
    "def write(file, output_file, delimiter):\n",
    "    with open(output_file, 'w')as output:\n",
    "        writer = csv.writer(output)\n",
    "        first_date = file[1][0]\n",
    "        for row_index, row in enumerate(file):\n",
    "            if(row_index==0):\n",
    "                continue\n",
    "            current_date = row[0]\n",
    "            sentences = row[3].split(delimiter)\n",
    "            sentences_length = len(sentences)\n",
    "            \n",
    "            # 文字列長ごとに時間を割りふる\n",
    "            if (len(sentences) == 1):\n",
    "                new_row = [row[0], row[1], row[2], sentences[0].replace(' \"', '')]\n",
    "                #new_row = [times[0], row[1], row[2], sentences[0].replace(' \"', '')]\n",
    "                writer.writerow(new_row)\n",
    "            else:\n",
    "                for index, sentence in enumerate(sentences):\n",
    "                    if (sentence == '' or sentence == '\"' or sentence==' \"'):\n",
    "                        continue\n",
    "                    new_row = [row[0], row[1], row[2], sentence.replace(' \"', '')]\n",
    "                    #new_row = [times[index], row[1], row[2], sentence.replace(' \"', '')]\n",
    "                    writer.writerow(new_row)"
   ]
  },
  {
   "cell_type": "code",
   "execution_count": 123,
   "metadata": {},
   "outputs": [],
   "source": [
    "def write_jp(file, output_file, delimiter):\n",
    "    with open(output_file, 'w')as output:\n",
    "        writer = csv.writer(output)\n",
    "        first_date = file[1][0]\n",
    "        for row_index, row in enumerate(file):\n",
    "            if(row_index==0):\n",
    "                continue\n",
    "            current_date = row[0]\n",
    "            sentences = row[2].split(delimiter)\n",
    "            sentences_length = len(sentences)\n",
    "            \n",
    "            # 文字列長ごとに時間を割りふる\n",
    "            if (len(sentences) == 1):\n",
    "                new_row = [row[0], row[1], sentences[0].replace(' \"', ''), row[3]]\n",
    "                #new_row = [times[0], row[1], row[2], sentences[0].replace(' \"', '')]\n",
    "                writer.writerow(new_row)\n",
    "            else:\n",
    "                for index, sentence in enumerate(sentences):\n",
    "                    if (sentence == '' or sentence == '\"' or sentence==' \"'):\n",
    "                        continue\n",
    "                    new_row = [row[0], row[1], sentence.replace(' \"', ''), row[3]]\n",
    "                    #new_row = [times[index], row[1], row[2], sentence.replace(' \"', '')]\n",
    "                    writer.writerow(new_row)"
   ]
  },
  {
   "cell_type": "code",
   "execution_count": 179,
   "metadata": {},
   "outputs": [],
   "source": [
    "def separate_row(file, delimiter):\n",
    "    \"\"\"\n",
    "    日本語用\n",
    "    ファイルから句点ごとに変更したリストを返す\n",
    "    \"\"\"\n",
    "    new_file = []\n",
    "    first_date = file[1][0] #1行目が項目名の想定\n",
    "    \n",
    "    for row_index, row in enumerate(file):\n",
    "        if(row_index==0):\n",
    "            continue\n",
    "        current_date = row[0]\n",
    "        # delimiteerごとに文章を分割\n",
    "        sentences = row[2].split(delimiter)\n",
    "        sentences_length = len(sentences)\n",
    "\n",
    "        # 分割した文章数ごとの処理\n",
    "        if (sentences_length == 1):\n",
    "            new_sentence = check_quote(sentences[0]) + delimiter\n",
    "            new_row = [row[0], row[1], new_sentence, row[3]]\n",
    "            new_file.append(new_row)\n",
    "        else:\n",
    "            for index, sentence in enumerate(sentences):\n",
    "                if (sentence == '' or sentence == '\"' or sentence==' \"'):\n",
    "                    continue\n",
    "                new_sentence = check_quote(sentence) + delimiter\n",
    "                new_row = [row[0], row[1], new_sentence, row[3]]\n",
    "                new_file.append(new_row)\n",
    "    return new_file"
   ]
  },
  {
   "cell_type": "code",
   "execution_count": 178,
   "metadata": {},
   "outputs": [],
   "source": [
    "def check_quote(sentence):\n",
    "    \"\"\"Meeting Assistの不要な文字列を削除\"\"\"\n",
    "    if sentence[:1] == '\"':\n",
    "        sentence = sentence[1:]\n",
    "    if sentence[:2] ==' \"':\n",
    "        sentence = sentence[2:]\n",
    "    if sentence[-1] == '\"':\n",
    "        sentence = sentence [:-1]\n",
    "    if sentence[-2:] == ' \"':\n",
    "        sentence = sentence [:-2]\n",
    "    return sentence"
   ]
  },
  {
   "cell_type": "code",
   "execution_count": 175,
   "metadata": {},
   "outputs": [
    {
     "name": "stdout",
     "output_type": "stream",
     "text": [
      "★★★opening★★★。AI 最新動向及び With/AfterコロナにおけるAI技術の活用と題しまして、\n",
      "本日ですが、特にAI技術の概念の中で、深層学習と言われるものがあります。それは、AIの今の財産で、AIブームを引き起こしたものでもあるのですが、そちらを中心にですね、特に研究開発のスピードが速い、画像系だったりとか、言語系とか\n"
     ]
    }
   ],
   "source": [
    "\n",
    "check_quote(' \"★★★opening★★★。AI 最新動向及び With/AfterコロナにおけるAI技術の活用と題しまして、\"')\n",
    "check_quote(' \"本日ですが、特にAI技術の概念の中で、深層学習と言われるものがあります。それは、AIの今の財産で、AIブームを引き起こしたものでもあるのですが、そちらを中心にですね、特に研究開発のスピードが速い、画像系だったりとか、言語系とか\"')"
   ]
  },
  {
   "cell_type": "code",
   "execution_count": 11,
   "metadata": {},
   "outputs": [],
   "source": [
    "output_file = './34_out.csv'\n",
    "delimiter = '.'\n",
    "write(file, output_file, delimiter)"
   ]
  },
  {
   "cell_type": "code",
   "execution_count": null,
   "metadata": {},
   "outputs": [],
   "source": []
  },
  {
   "cell_type": "code",
   "execution_count": null,
   "metadata": {},
   "outputs": [],
   "source": []
  }
 ],
 "metadata": {
  "kernelspec": {
   "display_name": "Python 3",
   "language": "python",
   "name": "python3"
  },
  "language_info": {
   "codemirror_mode": {
    "name": "ipython",
    "version": 3
   },
   "file_extension": ".py",
   "mimetype": "text/x-python",
   "name": "python",
   "nbconvert_exporter": "python",
   "pygments_lexer": "ipython3",
   "version": "3.7.4"
  }
 },
 "nbformat": 4,
 "nbformat_minor": 2
}
